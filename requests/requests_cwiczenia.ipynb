{
 "cells": [
  {
   "cell_type": "markdown",
   "id": "3e04fd66",
   "metadata": {},
   "source": [
    "# Zestaw pytań - bazy danych, biblioteka request, pełna aplikacja"
   ]
  },
  {
   "cell_type": "markdown",
   "id": "3d941374",
   "metadata": {},
   "source": [
    "Celem tych ćwiczeń, jest utrwalenie wszystkich zebranych do tej pory informacji przy pomocy budowy aplikacji do odzyskiwania informacji na temat liczb. Aplikacja powinna uwzględniać:"
   ]
  },
  {
   "cell_type": "markdown",
   "id": "3a108701",
   "metadata": {},
   "source": [
    "* Bazę danych SQLite\n",
    "* System rejestracji / logowania. Aby uzyskać dostęp do funkcjonalności aplikacji, użytkownik powinien być zalogowany\n",
    "* Mapowanie obiektów odzyskanych z bazy danych na instancje klas w Pythonie\n",
    "* Testy jednostkowe"
   ]
  },
  {
   "cell_type": "markdown",
   "id": "a5bec66b",
   "metadata": {},
   "source": [
    "## Opis Numbers API"
   ]
  },
  {
   "cell_type": "markdown",
   "id": "afa5f0b5",
   "metadata": {},
   "source": [
    "Numbers API jest serwisem w którym wykonując zapytanie do serwera pod adresem http://numbersapi.com/number/type  możemy podać następujące informację (wstawiając je w miejsce 'number' oraz 'type'):"
   ]
  },
  {
   "cell_type": "markdown",
   "id": "c79514e6",
   "metadata": {},
   "source": [
    "* `type`: może być podane jako `trivia`, `math`, `date`, lub `year`. Jeśli ten parametr nie jest podany, domyślnie zostanie użyte `trivia`\n",
    "* `number`: może być podany jako liczba całkowita, słowo `random` lub (jeżeli `type` jest ustawiony jako `date`) data w postaci `month/day` np. `03/29`, `05/23` itd."
   ]
  },
  {
   "cell_type": "markdown",
   "id": "a3b106be",
   "metadata": {},
   "source": [
    "## 1). Przygotowanie bazy danych "
   ]
  },
  {
   "cell_type": "markdown",
   "id": "e5c41127",
   "metadata": {},
   "source": [
    "Używając modułu `sqlite3`, stwórz bazę danych o nazwie 'numberapp.db' z następującymi tabelami:"
   ]
  },
  {
   "cell_type": "code",
   "execution_count": 3,
   "id": "f0dc7425",
   "metadata": {},
   "outputs": [],
   "source": [
    "import sqlite3\n",
    "db = sqlite3.connect('numbeapp.db')\n",
    "sql = db.cursor()\n",
    "\n",
    "sql.execute(\"\"\"CREATE TABLE IF NOT EXISTS users (\n",
    "        username TEXT, \n",
    "        password TEXT, \n",
    "        requests_count INT\n",
    "    )\"\"\")\n",
    "\n",
    "db.commit()\n",
    "sql.execute(\"\"\"CREATE TABLE IF NOT EXISTS logs (\n",
    "        username TEXT, \n",
    "        date TEXT, \n",
    "        type_param TEXT, \n",
    "        number_param TEXT\n",
    "    )\"\"\")\n",
    "db.commit()\n",
    "db.close()"
   ]
  },
  {
   "cell_type": "markdown",
   "id": "79d7bd46",
   "metadata": {},
   "source": [
    "* Tabela 'users' z kolumnami 'username', 'password', 'requests_count'\n",
    "* Tabela 'logs' z kolumnami 'username', 'date', 'type_param', 'number_param'"
   ]
  },
  {
   "cell_type": "markdown",
   "id": "45ed63d5",
   "metadata": {},
   "source": [
    "## 2). Przygotowanie odpowiednich modeli"
   ]
  },
  {
   "cell_type": "markdown",
   "id": "f427e631",
   "metadata": {},
   "source": [
    "Dokończ implementację następujących klas:"
   ]
  },
  {
   "cell_type": "code",
   "execution_count": 14,
   "id": "60d57893",
   "metadata": {},
   "outputs": [],
   "source": [
    "class User:\n",
    "    '''\n",
    "    username: nazwa użytkownika,\n",
    "    password: hasło użytkownika,\n",
    "    requests_count: ilość requestów wykonanych przez użytkownika\n",
    "    '''\n",
    "    def __init__(self, username, password, requests_count):\n",
    "        self.username = username\n",
    "        self.password = password\n",
    "        self.requests_count = requests_count\n",
    "    \n",
    "\n",
    "\n",
    "class Log:\n",
    "    '''\n",
    "    username: nazwa użytkownika k†óry wykonał zapytanie,\n",
    "    date: data kiedy zapytanie zostało wykonane\n",
    "    type_param: co użytkownik wybrał jako `type`,\n",
    "    number_param: co użytkownik wybrał jako `number` \n",
    "    '''\n",
    "    def __init__(self, username, data, type_param, number_param):\n",
    "        self.username = username \n",
    "        self.data = data\n",
    "        self.type_param = type_param\n",
    "        self.number_param = number_param\n",
    "\n",
    "    def getlo():\n",
    "        "
   ]
  },
  {
   "cell_type": "markdown",
   "id": "e1c8144f",
   "metadata": {},
   "source": [
    "**Klasy te powinny być wykorzystywane kiedy odzyskujemy informację z bazy danych**."
   ]
  },
  {
   "cell_type": "markdown",
   "id": "89465503",
   "metadata": {},
   "source": [
    "## 3). Logika aplikacji"
   ]
  },
  {
   "cell_type": "markdown",
   "id": "7ca87e47",
   "metadata": {},
   "source": [
    "Stwórz plik o nazwie `numberapp.py`. Zaimplementuj następujące funkcje:"
   ]
  },
  {
   "cell_type": "markdown",
   "id": "1ccacd23",
   "metadata": {},
   "source": [
    "#### 3.1). `register()`"
   ]
  },
  {
   "cell_type": "markdown",
   "id": "a3ed3706",
   "metadata": {},
   "source": [
    "Przyjmij od użytkownika dane `username` oraz `password`. Dodaj informację na temat nowego użytkownika do bazy danych."
   ]
  },
  {
   "cell_type": "code",
   "execution_count": 8,
   "id": "a05baff2",
   "metadata": {},
   "outputs": [],
   "source": [
    "def register():\n",
    "    \n",
    "    username = input('Input username: ')\n",
    "    password = input('Input password: ')\n",
    "    requests_count = 0\n",
    "    conn = sqlite3.connect('numbeapp.db')\n",
    "    cursor = conn.cursor()\n",
    "    cursor.execute('INSERT INTO users VALUES (?, ?, ?)', (username, password, requests_count))\n",
    "    conn.commit()\n",
    "    conn.close()"
   ]
  },
  {
   "cell_type": "markdown",
   "id": "d89781fb",
   "metadata": {},
   "source": [
    "#### 3.2). `login()`"
   ]
  },
  {
   "cell_type": "markdown",
   "id": "88e1b0c9",
   "metadata": {},
   "source": [
    "Przyjmij od użytkownika dane `username` oraz `password`. Zweryfikuj prawidłowość danych. Jeżeli są one poprawnę, zwróć obiekt klasy `User`, w innym wypadku zwróć wartość `False`"
   ]
  },
  {
   "cell_type": "code",
   "execution_count": 12,
   "id": "2e103af1",
   "metadata": {},
   "outputs": [],
   "source": [
    "def login():\n",
    "    global username\n",
    "    username = input('Input username: ')\n",
    "    password = input('Input password: ')\n",
    "    conn = sqlite3.connect('numbeapp.db')\n",
    "    cursor = conn.cursor()\n",
    "    queryset = cursor.execute('SELECT * from users')\n",
    "    users = queryset.fetchall()\n",
    "    conn.close()\n",
    "    # Converting primitive data structures to composite data types\n",
    "    user_objects = []\n",
    "    for user in users:\n",
    "        user_objects.append(Users(user[0], user[1]))\n",
    "\n",
    "    # Verifying user's credentials\n",
    "    for user in user_objects:\n",
    "        if user.username == username and user.password == password:\n",
    "            return user\n",
    "    return False"
   ]
  },
  {
   "cell_type": "markdown",
   "id": "f3f1f4dd",
   "metadata": {},
   "source": [
    "#### 3.3). `get_number()` "
   ]
  },
  {
   "cell_type": "markdown",
   "id": "cf8b53b9",
   "metadata": {},
   "source": [
    "Przyjmij od użytkownika dane `type` oraz `number`. Przy pomocy modułu `requests` wykonaj odpowiednie zapytanie. Zwróć użytkownikowi tekst otrzymany z serwera. Zapisz informację na temat zapytania do bazy danych do tabeli 'logs'. Zmodyfikuj dane w tabeli 'users' zwiększając o 1 wartość w kolumnie 'requests_count' danego użytkownika."
   ]
  },
  {
   "cell_type": "markdown",
   "id": "f7dde6aa",
   "metadata": {},
   "source": [
    "**Postaraj się napisać metodę w taki sposób, aby przed wykonaniem zapytania do serwera sprawdzić poprawność danych podanych przez użytkownika.** Możesz np. użyć polecenia `assert`, bloku `try...except` lub po prostu instrukcji warunkowych `if`"
   ]
  },
  {
   "cell_type": "code",
   "execution_count": 16,
   "id": "47b8713d",
   "metadata": {},
   "outputs": [],
   "source": [
    "def get_number():\n",
    "    import datetime\n",
    "    try:\n",
    "        type = input(\"Napisz Typ(prykład: `trivia`, `math`, `date`, lub `year`): \")\n",
    "        if type == 'trivia' or type == 'math' or type == 'date' or type == 'year':\n",
    "            print('type jest zapisano')\n",
    "        elif not (type == 'trivia' or type == 'math' or type == 'date'):\n",
    "            type = 'trivia'\n",
    "            print('the default type is trivia')\n",
    "        number = input(\"Możesz napisać słowo 'random' lub liczbę całkowitą, a jeśli wybrałeś' type ' date, to w formie month / day: \")\n",
    "        \n",
    "        b = datetime.datetime.now()\n",
    "        conn = sqlite3.connect(r'requests/numbeapp.db')\n",
    "        cursor = conn.cursor()\n",
    "        cursor.execute('INSERT INTO logs VALUES (?, ?, ?, ?)', (username, b, type, number))\n",
    "        conn.commit()\n",
    "        cursor.execute(f'UPDATE users set requests_count =+ 1 WHERE username = \"{username}\" ')\n",
    "        conn.commit()\n",
    "        print('Wpis został pomyślnie zaktualizowany')\n",
    "        cursor.close()\n",
    "\n",
    "    except sqlite3.Error as error:\n",
    "        print(\"Błąd podczas pracy z SQLite\", error)\n",
    "    finally:\n",
    "        if conn:\n",
    "            conn.close()\n",
    "            print(\"Połączenie z SQLite zamknięte\")\n",
    "    \n",
    "\n",
    "\n"
   ]
  },
  {
   "cell_type": "markdown",
   "id": "a8e80aa9",
   "metadata": {},
   "source": [
    "#### 3.4). `get_logs()`"
   ]
  },
  {
   "cell_type": "markdown",
   "id": "7f16dc1b",
   "metadata": {},
   "source": [
    "Odzyskaj z bazy danych z tabeli 'logs' wszystkie informacje. Przekształć je do postaci obiektów klasy `Log`. Zwróć użytkownikowi informację na temat wszystkich logów (format dowolny)"
   ]
  },
  {
   "cell_type": "code",
   "execution_count": 15,
   "id": "195065c1",
   "metadata": {},
   "outputs": [],
   "source": [
    "def get_logs():\n",
    "    conn = sqlite3.connect(r'requests/numbeapp.db')\n",
    "    cursor = conn.cursor()\n",
    "\n",
    "    cursor.execute(f\"SELECT * FROM logs WHERE username = '{username}'\")\n",
    "    a = cursor.fetchone()\n",
    "    usernam = a[0]\n",
    "    date = a[1]\n",
    "    typ = a[2]\n",
    "    num = a[3]\n",
    "    ex = Log(usernam, date, typ, num)\n",
    "    ex.logo()\n",
    "    print(ex)\n",
    "    conn.close()"
   ]
  },
  {
   "cell_type": "markdown",
   "id": "1705714e",
   "metadata": {},
   "source": [
    "#### 3.5). `get_users()`"
   ]
  },
  {
   "cell_type": "markdown",
   "id": "f1c511ab",
   "metadata": {},
   "source": [
    "Odzyskaj z bazy danych z tabeli 'users' wszystkie informacje. Przekształć je do postaci obiektów klasy `User`. Zwróć użytkownikowi informację na temat wszystkich użytkowników (format dowolny)"
   ]
  },
  {
   "cell_type": "code",
   "execution_count": 17,
   "id": "4ff931c9",
   "metadata": {},
   "outputs": [],
   "source": [
    "def get_users():\n",
    "    conn = sqlite3.connect(r'requests/numbeapp.db')\n",
    "    cursor = conn.cursor()\n",
    "\n",
    "    cursor.execute(f\"SELECT * FROM users WHERE username = '{username}'\")\n",
    "    a = cursor.fetchone()\n",
    "    usernam = a[0]\n",
    "    date = a[1]\n",
    "    req = a[2]\n",
    "    ex = User(usernam, date, req)\n",
    "    ex.us()\n",
    "    print(ex)\n",
    "    conn.close()\n",
    "    pass"
   ]
  },
  {
   "cell_type": "markdown",
   "id": "37f0846f",
   "metadata": {},
   "source": [
    "#### 3.6). Logika"
   ]
  },
  {
   "cell_type": "markdown",
   "id": "6e509077",
   "metadata": {},
   "source": [
    "Możesz przetestować swoją aplikację używając poniższego snippetu"
   ]
  },
  {
   "cell_type": "code",
   "execution_count": 18,
   "id": "7d89b1e4",
   "metadata": {},
   "outputs": [
    {
     "name": "stdout",
     "output_type": "stream",
     "text": [
      "1. Zarejestruj się\n",
      "2. Zaloguj się\n",
      "0. Wyjdź z programu\n"
     ]
    }
   ],
   "source": [
    "user = False\n",
    "while True:\n",
    "    if not user:\n",
    "        print('1. Zarejestruj się')\n",
    "        print('2. Zaloguj się')\n",
    "        print('0. Wyjdź z programu')\n",
    "        option = input('Podaj opcję: ')\n",
    "        if option == '1':\n",
    "            register()\n",
    "        elif option == '2':\n",
    "            user = login()\n",
    "        elif option == '0':\n",
    "            break\n",
    "    else:\n",
    "        print('1. Wykonaj zapytanie')\n",
    "        print('2. Zobacz logi')\n",
    "        print('3. Zobacz uzytkowników')\n",
    "        print('0. Wyjdź z programu')\n",
    "        option = input('Podaj opcję: ')\n",
    "        if option == '1':\n",
    "            get_number()\n",
    "        elif option == '2':\n",
    "            get_logs()\n",
    "        elif option == '3':\n",
    "            get_users()\n",
    "        elif option == '0':\n",
    "            break;"
   ]
  },
  {
   "cell_type": "markdown",
   "id": "c47444b2",
   "metadata": {},
   "source": [
    "## 4). Testy"
   ]
  },
  {
   "cell_type": "markdown",
   "id": "bc3cba78",
   "metadata": {},
   "source": [
    "Stwórz plik `numberapp_tests.py`. Napisz testy jednostkowe do napisanych funkcjonalności."
   ]
  }
 ],
 "metadata": {
  "kernelspec": {
   "display_name": "Python 3",
   "language": "python",
   "name": "python3"
  },
  "language_info": {
   "codemirror_mode": {
    "name": "ipython",
    "version": 3
   },
   "file_extension": ".py",
   "mimetype": "text/x-python",
   "name": "python",
   "nbconvert_exporter": "python",
   "pygments_lexer": "ipython3",
   "version": "3.9.8"
  }
 },
 "nbformat": 4,
 "nbformat_minor": 5
}
